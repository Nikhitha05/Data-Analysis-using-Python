{
 "cells": [
  {
   "cell_type": "code",
   "execution_count": 1,
   "id": "aa9fd93f",
   "metadata": {},
   "outputs": [
    {
     "name": "stdout",
     "output_type": "stream",
     "text": [
      "[array([1, 2]), array([3, 4]), array([5, 6])]\n"
     ]
    }
   ],
   "source": [
    "import numpy as np\n",
    "arr = np.array([1, 2, 3, 4, 5, 6])\n",
    "newarr = np.array_split(arr, 3)\n",
    "print(newarr) "
   ]
  },
  {
   "cell_type": "code",
   "execution_count": 2,
   "id": "f7ab52ed",
   "metadata": {},
   "outputs": [
    {
     "name": "stdout",
     "output_type": "stream",
     "text": [
      "[1 2]\n",
      "[3 4]\n",
      "[5 6]\n"
     ]
    }
   ],
   "source": [
    "import numpy as np\n",
    "arr = np.array([1, 2, 3, 4, 5, 6])\n",
    "newarr = np.array_split(arr, 3)\n",
    "print(newarr[0])\n",
    "print(newarr[1])\n",
    "print(newarr[2]) "
   ]
  },
  {
   "cell_type": "code",
   "execution_count": 3,
   "id": "447331ae",
   "metadata": {},
   "outputs": [
    {
     "name": "stdout",
     "output_type": "stream",
     "text": [
      "\n",
      "\n",
      "[[1 2]\n",
      " [3 4]]\n",
      "\n",
      "\n",
      "[[5 6]\n",
      " [7 8]]\n",
      "\n",
      "\n",
      "[[ 9 10]\n",
      " [11 12]]\n"
     ]
    }
   ],
   "source": [
    "import numpy as np\n",
    "arr = np.array([[1, 2], [3, 4], [5, 6], [7, 8], [9, 10], [11, 12]])\n",
    "newarr = np.array_split(arr, 3)\n",
    "print(\"\\n\")\n",
    "print(newarr[0])\n",
    "print(\"\\n\")\n",
    "print(newarr[1])\n",
    "print(\"\\n\")\n",
    "print(newarr[2]) "
   ]
  },
  {
   "cell_type": "code",
   "execution_count": 4,
   "id": "b0316979",
   "metadata": {},
   "outputs": [
    {
     "name": "stdout",
     "output_type": "stream",
     "text": [
      "\n",
      "\n",
      "[[ 1]\n",
      " [ 4]\n",
      " [ 7]\n",
      " [10]\n",
      " [13]\n",
      " [16]]\n",
      "\n",
      "\n",
      "[[ 2]\n",
      " [ 5]\n",
      " [ 8]\n",
      " [11]\n",
      " [14]\n",
      " [17]]\n",
      "\n",
      "\n",
      "[[ 3]\n",
      " [ 6]\n",
      " [ 9]\n",
      " [12]\n",
      " [15]\n",
      " [18]]\n"
     ]
    }
   ],
   "source": [
    "import numpy as np\n",
    "arr = np.array([[1, 2, 3], [4, 5, 6], [7, 8, 9], [10, 11, 12], [13, 14, 15], [16, 17, 18]])\n",
    "newarr = np.array_split(arr, 3, axis=1)\n",
    "print(\"\\n\")\n",
    "print(newarr[0])\n",
    "print(\"\\n\")\n",
    "print(newarr[1])\n",
    "print(\"\\n\")\n",
    "print(newarr[2])"
   ]
  },
  {
   "cell_type": "code",
   "execution_count": 5,
   "id": "567d789a",
   "metadata": {},
   "outputs": [
    {
     "name": "stdout",
     "output_type": "stream",
     "text": [
      "\n",
      "\n",
      "[[1 2 3]\n",
      " [4 5 6]]\n",
      "\n",
      "\n",
      "[[ 7  8  9]\n",
      " [10 11 12]]\n",
      "\n",
      "\n",
      "[[13 14 15]\n",
      " [16 17 18]]\n"
     ]
    }
   ],
   "source": [
    "import numpy as np\n",
    "arr = np.array([[1, 2, 3], [4, 5, 6], [7, 8, 9], [10, 11, 12], [13, 14, 15], [16, 17, 18]])\n",
    "newarr = np.vsplit(arr, 3)\n",
    "print(\"\\n\")\n",
    "print(newarr[0])\n",
    "print(\"\\n\")\n",
    "print(newarr[1])\n",
    "print(\"\\n\")\n",
    "print(newarr[2])"
   ]
  },
  {
   "cell_type": "code",
   "execution_count": null,
   "id": "0aa6187e",
   "metadata": {},
   "outputs": [],
   "source": []
  }
 ],
 "metadata": {
  "kernelspec": {
   "display_name": "Python 3",
   "language": "python",
   "name": "python3"
  },
  "language_info": {
   "codemirror_mode": {
    "name": "ipython",
    "version": 3
   },
   "file_extension": ".py",
   "mimetype": "text/x-python",
   "name": "python",
   "nbconvert_exporter": "python",
   "pygments_lexer": "ipython3",
   "version": "3.6.13"
  }
 },
 "nbformat": 4,
 "nbformat_minor": 5
}
