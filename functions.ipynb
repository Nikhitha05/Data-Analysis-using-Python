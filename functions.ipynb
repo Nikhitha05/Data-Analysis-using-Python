{
 "cells": [
  {
   "cell_type": "code",
   "execution_count": 2,
   "id": "36a66d48",
   "metadata": {},
   "outputs": [
    {
     "name": "stdout",
     "output_type": "stream",
     "text": [
      "1\n",
      "2\n",
      "in function   nikhitha\n",
      "after printing in function definition\n",
      "in function   g\n",
      "after printing in function definition\n",
      "3\n"
     ]
    }
   ],
   "source": [
    "def hello (str):\n",
    "     print(\"in function   \" + str)\n",
    "     print(\"after printing in function definition\")\n",
    "     return;\n",
    "print(\"1\")\n",
    "print(\"2\")\n",
    "hello(\"nikhitha\")\n",
    "hello(\"g\")\n",
    "print(\"3\")\n",
    "    \n"
   ]
  },
  {
   "cell_type": "code",
   "execution_count": 3,
   "id": "b28086eb",
   "metadata": {},
   "outputs": [
    {
     "name": "stdout",
     "output_type": "stream",
     "text": [
      "Values inside the function:  [10, 20, 30, [1, 2, 3, 4]]\n",
      "Values outside the function:  [10, 20, 30, [1, 2, 3, 4]]\n"
     ]
    }
   ],
   "source": [
    "def changeme( mylist ):\n",
    "   mylist.append([1,2,3,4]);\n",
    "   print (\"Values inside the function: \", mylist)\n",
    "   return;\n",
    "mylist = [10,20,30];\n",
    "changeme( mylist );\n",
    "print (\"Values outside the function: \", mylist)\n"
   ]
  },
  {
   "cell_type": "code",
   "execution_count": 4,
   "id": "cb5df820",
   "metadata": {},
   "outputs": [
    {
     "name": "stdout",
     "output_type": "stream",
     "text": [
      "BEFORE CHANGESValues inside the function:  [10, 20, 30]\n",
      "AFTER CHANGES Values inside the function:  [1, 2, 3, 4]\n",
      "Values outside the function:  [10, 20, 30]\n"
     ]
    }
   ],
   "source": [
    "def changeme( mylist ):\n",
    "    print (\"BEFORE CHANGESValues inside the function: \", mylist)\n",
    "    mylist = [1,2,3,4]; \n",
    "    print (\"AFTER CHANGES Values inside the function: \", mylist)\n",
    "    return\n",
    "mylist1 = [10,20,30];\n",
    "changeme( mylist1 );\n",
    "print (\"Values outside the function: \", mylist1)"
   ]
  },
  {
   "cell_type": "code",
   "execution_count": 5,
   "id": "db77666b",
   "metadata": {},
   "outputs": [
    {
     "name": "stdout",
     "output_type": "stream",
     "text": [
      "Name:  50\n",
      "Age  nikhitha\n"
     ]
    }
   ],
   "source": [
    "def printinfo( name, age ):\n",
    "    print (\"Name: \", name)\n",
    "    print (\"Age \", age)\n",
    "    return;\n",
    "\n",
    "printinfo( 50, \"nikhitha\" )"
   ]
  },
  {
   "cell_type": "code",
   "execution_count": 6,
   "id": "1bd157bd",
   "metadata": {},
   "outputs": [
    {
     "name": "stdout",
     "output_type": "stream",
     "text": [
      "Output is: \n",
      "arg1== 10\n",
      "78\n",
      "Output is: \n",
      "arg1== 70\n",
      "60\n",
      "50\n",
      "90\n"
     ]
    }
   ],
   "source": [
    "def printinfo( arg1, *vartuple ):\n",
    "     print (\"Output is: \")\n",
    "     print (\"arg1==\",arg1)\n",
    "     for var in vartuple:\n",
    "        print (var)\n",
    "     return;\n",
    "printinfo( 10,78 )\n",
    "printinfo( 70, 60, 50,90 )"
   ]
  },
  {
   "cell_type": "code",
   "execution_count": 10,
   "id": "f1ff225b",
   "metadata": {},
   "outputs": [],
   "source": [
    "total = 99; \n",
    "def sum( arg1, arg2 ):\n",
    "    total = arg1 + arg2; \n",
    "    print (\"Inside the function local total : \", total)\n",
    "    return total;"
   ]
  },
  {
   "cell_type": "code",
   "execution_count": null,
   "id": "4ba3287c",
   "metadata": {},
   "outputs": [],
   "source": []
  }
 ],
 "metadata": {
  "kernelspec": {
   "display_name": "Python 3",
   "language": "python",
   "name": "python3"
  },
  "language_info": {
   "codemirror_mode": {
    "name": "ipython",
    "version": 3
   },
   "file_extension": ".py",
   "mimetype": "text/x-python",
   "name": "python",
   "nbconvert_exporter": "python",
   "pygments_lexer": "ipython3",
   "version": "3.6.13"
  }
 },
 "nbformat": 4,
 "nbformat_minor": 5
}
