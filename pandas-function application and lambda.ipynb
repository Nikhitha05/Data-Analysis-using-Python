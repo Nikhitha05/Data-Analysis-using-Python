{
 "cells": [
  {
   "cell_type": "code",
   "execution_count": 1,
   "id": "a3dd4f4b",
   "metadata": {},
   "outputs": [
    {
     "name": "stdout",
     "output_type": "stream",
     "text": [
      "       col1      col2      col3\n",
      "0  0.858094 -0.869363  0.224157\n",
      "1 -0.813971 -0.450005 -0.421483\n",
      "2 -3.588016  0.017048 -0.492253\n",
      "3 -1.208266  0.862940  1.130456\n",
      "4  0.605956  0.075142 -0.050509\n",
      "printing the results of pipe\n",
      "       col1      col2      col3\n",
      "0  2.858094  1.130637  2.224157\n",
      "1  1.186029  1.549995  1.578517\n",
      "2 -1.588016  2.017048  1.507747\n",
      "3  0.791734  2.862940  3.130456\n",
      "4  2.605956  2.075142  1.949491\n"
     ]
    }
   ],
   "source": [
    "import pandas as pd\n",
    "import numpy as np\n",
    "def adder(ele1,ele2):\n",
    "   return ele1+ele2\n",
    "df = pd.DataFrame(np.random.randn(5,3),columns=['col1','col2','col3'])\n",
    "print(df)\n",
    "print(\"printing the results of pipe\")\n",
    "print(df.pipe(adder,2))"
   ]
  },
  {
   "cell_type": "code",
   "execution_count": 2,
   "id": "f49c1902",
   "metadata": {},
   "outputs": [
    {
     "name": "stdout",
     "output_type": "stream",
     "text": [
      "       col1      col2      col3\n",
      "0  0.026200  0.695174  0.170970\n",
      "1  2.827030 -0.039080 -0.191109\n",
      "2 -0.163957 -2.242895 -1.015872\n",
      "3 -1.515923  0.321054 -0.529207\n",
      "4 -0.777078 -1.766653  0.814080\n",
      "col1    0.079254\n",
      "col2   -0.606480\n",
      "col3   -0.150227\n",
      "dtype: float64\n"
     ]
    }
   ],
   "source": [
    "import pandas as pd\n",
    "import numpy as np\n",
    "\n",
    "def adder(ele1,ele2):\n",
    "   return ele1+ele2\n",
    "\n",
    "df = pd.DataFrame(np.random.randn(5,3),columns=['col1','col2','col3'])\n",
    "print(df)\n",
    "\n",
    "print (df.apply(np.mean))"
   ]
  },
  {
   "cell_type": "code",
   "execution_count": 3,
   "id": "4e0a397c",
   "metadata": {},
   "outputs": [
    {
     "name": "stdout",
     "output_type": "stream",
     "text": [
      "       col1      col2      col3\n",
      "0  1.288978 -0.178750 -0.677168\n",
      "1  1.359724  0.511797  1.047369\n",
      "2 -1.310101  0.512001  2.382484\n",
      "3  0.442370  0.070176 -0.359346\n",
      "4 -1.342967  1.380654 -0.359748\n",
      "0    0.144353\n",
      "1    0.972963\n",
      "2    0.528128\n",
      "3    0.051066\n",
      "4   -0.107354\n",
      "dtype: float64\n"
     ]
    }
   ],
   "source": [
    "import pandas as pd\n",
    "import numpy as np\n",
    "\n",
    "df = pd.DataFrame(np.random.randn(5,3),columns=['col1','col2','col3'])\n",
    "print(df)\n",
    "\n",
    "print (df.apply(np.mean,axis=1))"
   ]
  },
  {
   "cell_type": "code",
   "execution_count": 4,
   "id": "bdd750a2",
   "metadata": {},
   "outputs": [
    {
     "name": "stdout",
     "output_type": "stream",
     "text": [
      "       col1      col2      col3\n",
      "0  0.592064  0.326341  0.284031\n",
      "1  1.739124 -0.412678 -1.283880\n",
      "2 -3.205860 -0.258627  2.507747\n",
      "3 -0.540153  0.705373 -0.811489\n",
      "4  0.158375  1.177208  0.367557\n",
      "0     59.206436\n",
      "1    173.912376\n",
      "2   -320.586004\n",
      "3    -54.015344\n",
      "4     15.837507\n",
      "Name: col1, dtype: float64\n"
     ]
    }
   ],
   "source": [
    "import pandas as pd\n",
    "import numpy as np\n",
    "df = pd.DataFrame(np.random.randn(5,3),columns=['col1','col2','col3'])\n",
    "print(df)\n",
    "\n",
    "print(df['col1'].map(lambda x:x*100))"
   ]
  },
  {
   "cell_type": "code",
   "execution_count": 5,
   "id": "b0b1b1ab",
   "metadata": {},
   "outputs": [
    {
     "name": "stdout",
     "output_type": "stream",
     "text": [
      "   id  name  age  income\n",
      "0   1   abc   11    9999\n",
      "1   2  defg   22    8888\n",
      "2   3   ghs   33    7777\n",
      "3   4  eeee   44    6666\n",
      "4   5  wwww   55    5555\n"
     ]
    }
   ],
   "source": [
    "df=pd.DataFrame({'id':[1,2,3,4,5],'name':['abc','defg','ghs','eeee','wwww'],'age':[11,22,33,44,55], 'income':[9999,8888,7777,6666,5555]})\n",
    "print(df)"
   ]
  },
  {
   "cell_type": "code",
   "execution_count": 6,
   "id": "24732aff",
   "metadata": {},
   "outputs": [
    {
     "name": "stdout",
     "output_type": "stream",
     "text": [
      "   id  name  age  income\n",
      "0   1   abc   14    9999\n",
      "1   2  defg   25    8888\n",
      "2   3   ghs   36    7777\n",
      "3   4  eeee   47    6666\n",
      "4   5  wwww   58    5555\n"
     ]
    }
   ],
   "source": [
    "df['age']=df.apply(lambda x: x['age']+3, axis=1)\n",
    "print(df)"
   ]
  },
  {
   "cell_type": "code",
   "execution_count": 7,
   "id": "da992fe9",
   "metadata": {},
   "outputs": [
    {
     "data": {
      "text/plain": [
       "[25, 36, 47, 58]"
      ]
     },
     "execution_count": 7,
     "metadata": {},
     "output_type": "execute_result"
    }
   ],
   "source": [
    "list(filter(lambda x:x>18, df['age']))"
   ]
  },
  {
   "cell_type": "code",
   "execution_count": 8,
   "id": "7a72dcb6",
   "metadata": {},
   "outputs": [
    {
     "name": "stdout",
     "output_type": "stream",
     "text": [
      "   id  name  age  income\n",
      "0   1   abc   14   11998\n",
      "1   2  defg   25   10665\n",
      "2   3   ghs   36    9332\n",
      "3   4  eeee   47    7999\n",
      "4   5  wwww   58    6666\n"
     ]
    }
   ],
   "source": [
    "df['income']=list(map(lambda x: int(x+x*0.2), df['income']))\n",
    "print(df)"
   ]
  },
  {
   "cell_type": "code",
   "execution_count": 9,
   "id": "d1149c02",
   "metadata": {},
   "outputs": [
    {
     "data": {
      "text/plain": [
       "46660"
      ]
     },
     "execution_count": 9,
     "metadata": {},
     "output_type": "execute_result"
    }
   ],
   "source": [
    "import functools\n",
    "\n",
    "functools.reduce(lambda a,b: a+b, df['income'])"
   ]
  },
  {
   "cell_type": "code",
   "execution_count": 10,
   "id": "c7f00903",
   "metadata": {},
   "outputs": [],
   "source": [
    "df['category']=df['age'].apply(lambda x: 'Adult' if x>=18 else 'Child')"
   ]
  },
  {
   "cell_type": "code",
   "execution_count": 11,
   "id": "3bef0d4f",
   "metadata": {},
   "outputs": [
    {
     "name": "stdout",
     "output_type": "stream",
     "text": [
      "   id  name  age  income category\n",
      "0   1   abc   14   11998    Child\n",
      "1   2  defg   25   10665    Adult\n",
      "2   3   ghs   36    9332    Adult\n",
      "3   4  eeee   47    7999    Adult\n",
      "4   5  wwww   58    6666    Adult\n"
     ]
    }
   ],
   "source": [
    "print(df)"
   ]
  },
  {
   "cell_type": "code",
   "execution_count": null,
   "id": "7ed49357",
   "metadata": {},
   "outputs": [],
   "source": []
  }
 ],
 "metadata": {
  "kernelspec": {
   "display_name": "Python 3",
   "language": "python",
   "name": "python3"
  },
  "language_info": {
   "codemirror_mode": {
    "name": "ipython",
    "version": 3
   },
   "file_extension": ".py",
   "mimetype": "text/x-python",
   "name": "python",
   "nbconvert_exporter": "python",
   "pygments_lexer": "ipython3",
   "version": "3.6.13"
  }
 },
 "nbformat": 4,
 "nbformat_minor": 5
}
